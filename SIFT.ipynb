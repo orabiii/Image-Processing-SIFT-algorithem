{
  "nbformat": 4,
  "nbformat_minor": 0,
  "metadata": {
    "colab": {
      "name": "Untitled4.ipynb",
      "provenance": []
    },
    "kernelspec": {
      "name": "python3",
      "display_name": "Python 3"
    },
    "language_info": {
      "name": "python"
    }
  },
  "cells": [
    {
      "cell_type": "markdown",
      "metadata": {
        "id": "B3vVbB2CSfaB"
      },
      "source": [
        " **Team member 1 : \n",
        "  Mohamed Orabi  40-20454   T-04**"
      ]
    },
    {
      "cell_type": "markdown",
      "metadata": {
        "id": "Iyc7l_vlTf-z"
      },
      "source": [
        "**Team member 2 : \n",
        "  Mahmoud Hashem 40-15477   T-04**"
      ]
    },
    {
      "cell_type": "markdown",
      "metadata": {
        "id": "oNGYMmhXQsZ6"
      },
      "source": [
        "# Problem 1"
      ]
    },
    {
      "cell_type": "code",
      "metadata": {
        "id": "Y41SmJC44XbF"
      },
      "source": [
        "import cv2\n",
        "import matplotlib.pyplot as plt"
      ],
      "execution_count": 30,
      "outputs": []
    },
    {
      "cell_type": "markdown",
      "metadata": {
        "id": "n5CiH1vgQ2pQ"
      },
      "source": [
        "**Implementation of key points detection in SIFT algorithem**"
      ]
    },
    {
      "cell_type": "code",
      "metadata": {
        "id": "iStCK-0_BtD4"
      },
      "source": [
        "#import cv2 as cv\n",
        "from skimage import color\n",
        "import math\n",
        "from scipy import ndimage, misc\n",
        "\n",
        "dict = {}\n",
        "def SIFT (image , MaxS , t):\n",
        "  gray = cv2.cvtColor(image, cv2.COLOR_BGR2GRAY)\n",
        "  gray = gray.astype(float) / 255\n",
        "  threshold = t\n",
        "  log_function(gray ,1 , MaxS)\n",
        "  marks , sigma_best , image = draw(t , image)\n",
        "  return marks , sigma_best , image\n",
        "\n",
        "def log_function (gray , sigma , maxS):\n",
        "  if(sigma > maxS):\n",
        "    return\n",
        "  log = ndimage.gaussian_laplace(gray, sigma)\n",
        "  log[log < 0] *= -1  \n",
        "  squared = sigma**2\n",
        "  dict[sigma] = log*squared\n",
        "  log_function(gray , sigma+1 , maxS)\n",
        "\n",
        "\n",
        "def check_key (index , value, row , col , abs_t , log_value):\n",
        "  \n",
        "  if(index ==1 or index == 20):\n",
        "    return False\n",
        "\n",
        "  cur = dict.get(index)\n",
        "  above = dict.get(index+1)\n",
        "  below = dict.get(index-1)\n",
        "  threshold = abs_t *2\n",
        "  if(log_value <= threshold):\n",
        "    return False\n",
        "  i = -1\n",
        "  while (i < 2):\n",
        "    j = -1\n",
        "    while (j < 2):\n",
        "      if(cur[row+i][col+j] >= value ):\n",
        "        return False\n",
        "      j += 1\n",
        "      if(i ==0 and j == 0):\n",
        "        j +=1\n",
        "    i += 1\n",
        "\n",
        "  i = -1\n",
        "  while (i < 2):\n",
        "    j = -1\n",
        "    while (j < 2):\n",
        "      if(above[row+i][col+j] >= value ):\n",
        "        return False\n",
        "      j += 1\n",
        "    i += 1\n",
        "\n",
        "  i = -1\n",
        "  while (i < 2):\n",
        "    j = -1\n",
        "    while (j < 2):\n",
        "      if(below[row+i][col+j] >= value ):\n",
        "        return False\n",
        "      j += 1\n",
        "    i += 1\n",
        "  return True\n",
        "\n",
        "\n",
        "def mark_key(x , y , s , marks , sigma_best , image):\n",
        "  marks.append([y,x])\n",
        "  sigma_best.append([5 , [x,y]])\n",
        "  cv2.circle(image, tuple([y,x]), math.ceil(math.sqrt(2)*s), (255, 0, 0), thickness=1, lineType=8, shift=0)\n",
        "  return marks , sigma_best , image\n",
        "\n",
        "\n",
        "def draw (threshold , image ):\n",
        "  marks = []\n",
        "  sigma_best = []\n",
        "  rows =  image.shape[0]\n",
        "  cols = image.shape[1]\n",
        "  for i in range (1,rows-2):\n",
        "    for j in range (1,cols -2):\n",
        "      values = []\n",
        "      for k in dict : \n",
        "        cur_log = dict[k]\n",
        "        values.append(cur_log[i][j])\n",
        "      flag = check_key(values.index(max(values ))+1 ,max(values) , i , j , threshold , round(max(values) , 2))\n",
        "      if(flag):\n",
        "        marks , sigma_best , image= mark_key(i , j , values.index(max(values))+1 , marks , sigma_best , image)\n",
        "  return marks , sigma_best , image\n",
        "\n",
        "\n",
        "# marks = []\n",
        "# th = []\n",
        "# sigma_best = []\n",
        "# dict = {}\n",
        "#SIFT(image , 20 , 0.0)\n",
        "\n",
        "#plt.imshow(image)\n",
        "\n",
        "# def log_function(gray , sigma):\n",
        "#   if(sigma > 20):\n",
        "#     return\n",
        "#   gaussian = cv.GaussianBlur(gray,(0,0),sigma)\n",
        "#   log = cv2.Laplacian(gaussian, cv2.CV_16S)\n",
        "#   log = cv2.convertScaleAbs(log)\n",
        "#   log[log >= 0] *= sigma\n",
        "#   dict[sigma] = log\n",
        "#   log_function(gray , sigma+1)"
      ],
      "execution_count": 31,
      "outputs": []
    },
    {
      "cell_type": "code",
      "metadata": {
        "colab": {
          "base_uri": "https://localhost:8080/",
          "height": 101
        },
        "id": "vGrfTtUAILt0",
        "outputId": "429d2598-4084-466c-ac95-ab51945546ee"
      },
      "source": [
        "image1_1 = cv2.imread(\"/content/drive/MyDrive/image/Giraffe.jpg\")\n",
        "image1_2 = cv2.imread(\"/content/drive/MyDrive/image/Giraffe.jpg\")\n",
        "image1_3 = cv2.imread(\"/content/drive/MyDrive/image/Giraffe.jpg\")\n",
        "image2 = cv2.imread(\"/content/drive/MyDrive/image/Louvre1.jpg\")\n",
        "marks1 , sigma_best1 , image1_1 =  SIFT(image1_1 , 20 , 0.0)\n",
        "marks2 , sigma_best2 , image1_2 =  SIFT(image1_2 , 20 , 0.01)\n",
        "marks1 , sigma_best1 , image1_3 =  SIFT(image1_3 , 20 , 0.02)\n",
        "fig = plt.figure()\n",
        "plt.gray()  # show the filtered result in grayscale\n",
        "ax1 = fig.add_subplot(131)  # left side\n",
        "ax2 = fig.add_subplot(132)  # right side\n",
        "ax3 = fig.add_subplot(133)  # right side\n",
        "ax1.imshow(image1_1)\n",
        "ax2.imshow(image1_2)\n",
        "ax3.imshow(image1_3)\n",
        "plt.show()\n",
        "#plt.imshow(image)"
      ],
      "execution_count": 32,
      "outputs": [
        {
          "output_type": "display_data",
          "data": {
            "image/png": "[encoded data removed]",
            "text/plain": [
              "<Figure size 432x288 with 3 Axes>"
            ]
          },
          "metadata": {
            "tags": [],
            "needs_background": "light"
          }
        }
      ]
    },
    {
      "cell_type": "markdown",
      "metadata": {
        "id": "xw3J1Yp4RchC"
      },
      "source": [
        "**Saving the 2 images resulted from convolving the giraffe image with log mask with segma = 1 and 5 respectively**"
      ]
    },
    {
      "cell_type": "code",
      "metadata": {
        "id": "id-n7tArV5hb"
      },
      "source": [
        "import numpy as np\n",
        "from matplotlib import pyplot as plt\n",
        "\n",
        "image = cv2.imread(\"/content/drive/MyDrive/image/Giraffe.jpg\")\n",
        "gray = cv2.cvtColor(image, cv2.COLOR_BGR2GRAY)\n",
        "gray = gray.astype(float) / 255\n",
        "\n",
        "def log_function (gray , sigma , maxS):\n",
        "  log = ndimage.gaussian_laplace(gray, sigma)\n",
        "  log[log < 0] *= -1  \n",
        "  return log*255\n",
        "\n",
        "Giraffe_S1 = log_function(gray , 1 , 20)\n",
        "Giraffe_S5 = log_function(gray , 5 , 20)\n",
        "\n",
        "plt.imsave('Giraffe_S1.jpg', Giraffe_S1)\n",
        "plt.imsave('Giraffe_S5.jpg', Giraffe_S5)\n",
        "\n"
      ],
      "execution_count": 33,
      "outputs": []
    },
    {
      "cell_type": "markdown",
      "metadata": {
        "id": "lLxln1s4Ryzu"
      },
      "source": [
        "**Saving the 3 images of keypoints detection with different threshold**"
      ]
    },
    {
      "cell_type": "code",
      "metadata": {
        "id": "jxAdkphVTGFg"
      },
      "source": [
        "from PIL import Image\n",
        "im1 = Image.fromarray(image1_1)\n",
        "im2 = Image.fromarray(image1_2)\n",
        "im3 = Image.fromarray(image1_3)\n",
        "im1.save(\"Giraffe_0.jpg\")\n",
        "im2.save(\"Giraffe_01.jpg\")\n",
        "im3.save(\"Giraffe_02.jpg\")"
      ],
      "execution_count": 34,
      "outputs": []
    },
    {
      "cell_type": "markdown",
      "metadata": {
        "id": "B-RRmG89O5MJ"
      },
      "source": [
        "# Problem 2\n",
        "**import the required libraries and implement the stitch algorithem**"
      ]
    },
    {
      "cell_type": "code",
      "metadata": {
        "id": "QxTRTjaLos4N"
      },
      "source": [
        "import numpy as np\n",
        "from scipy.ndimage import gaussian_filter\n",
        "import math\n",
        "\n",
        "\n",
        "def conv_sBest(image , sigma):\n",
        "  rows =  image.shape[0]\n",
        "  cols = image.shape[1]\n",
        "  #gradient = [[0 for x in range(cols)] for y in range(rows)]\n",
        "  gradient = np.zeros([rows,cols])\n",
        "  gauss = gaussian_filter(image, sigma)\n",
        "  kernely = np.array([[1,1,1],[0,0,0],[-1,-1,-1]])\n",
        "  kernelx = np.array([[1,0,-1],[1,0,-1],[1,0,-1]])\n",
        "  edges_x = cv2.filter2D(image,cv2.CV_8U,kernelx)\n",
        "  edges_y = cv2.filter2D(image,cv2.CV_8U,kernely)\n",
        "  for i in range (0,rows-1):\n",
        "    for j in range (0,cols -1):\n",
        "      h1 = edges_x[i,j][0]\n",
        "      h2 = edges_y[i,j][0]\n",
        "      gradient[i][j] = math.degrees(math.atan(h2/h1))\n",
        "\n",
        "  return gradient\n",
        "  \n",
        "def window16 (image , x , y):\n",
        "  output = np.zeros([16,16])\n",
        "  mid = 8\n",
        "  for i in range (0,16):\n",
        "    for j in range (0,16):\n",
        "      value = image[x-mid+i][y-mid+j]\n",
        "      output[i,j] = value\n",
        "  return output\n",
        "\n",
        "def window4 (win16):\n",
        "  windows4X4 = []\n",
        "  quar1 = np.zeros([4,4])\n",
        "  for i in range (0,4):\n",
        "    for j in range (0,4):\n",
        "      quar1[i,j] = win16[i][j]\n",
        "  windows4X4.append(quar1)\n",
        "  quar2 = np.zeros([4,4])\n",
        "  for i in range (0,4):\n",
        "    for j in range (0,4):\n",
        "      quar2[i,j] = win16[i][j+4]\n",
        "  windows4X4.append(quar2)\n",
        "  quar3 = np.zeros([4,4])\n",
        "  for i in range (0,4):\n",
        "    for j in range (0,4):\n",
        "      quar3[i,j] = win16[i][j+8]\n",
        "  windows4X4.append(quar3)\n",
        "  quar4 = np.zeros([4,4])\n",
        "  for i in range (0,4):\n",
        "    for j in range (0,4):\n",
        "      quar4[i,j] = win16[i][j+12]\n",
        "  windows4X4.append(quar4)\n",
        "\n",
        "\n",
        "  quar5 = np.zeros([4,4])\n",
        "  for i in range (0,4):\n",
        "    for j in range (0,4):\n",
        "      quar5[i,j] = win16[i+4][j]\n",
        "  windows4X4.append(quar5)\n",
        "  quar6 = np.zeros([4,4])\n",
        "  for i in range (0,4):\n",
        "    for j in range (0,4):\n",
        "      quar6[i,j] = win16[i+4][j+4]\n",
        "  windows4X4.append(quar6)\n",
        "  quar7 = np.zeros([4,4])\n",
        "  for i in range (0,4):\n",
        "    for j in range (0,4):\n",
        "      quar7[i,j] = win16[i+4][j+8]\n",
        "  windows4X4.append(quar7)\n",
        "  quar8 = np.zeros([4,4])\n",
        "  for i in range (0,4):\n",
        "    for j in range (0,4):\n",
        "      quar8[i,j] = win16[i+4][j+12]\n",
        "  windows4X4.append(quar8)\n",
        "\n",
        "\n",
        "  quar9 = np.zeros([4,4])\n",
        "  for i in range (0,4):\n",
        "    for j in range (0,4):\n",
        "      quar9[i,j] = win16[i+8][j]\n",
        "  windows4X4.append(quar9)\n",
        "  quar10 = np.zeros([4,4])\n",
        "  for i in range (0,4):\n",
        "    for j in range (0,4):\n",
        "      quar10[i,j] = win16[i+8][j+4]\n",
        "  windows4X4.append(quar10)\n",
        "  quar11 = np.zeros([4,4])\n",
        "  for i in range (0,4):\n",
        "    for j in range (0,4):\n",
        "      quar11[i,j] = win16[i+8][j+8]\n",
        "  windows4X4.append(quar11)\n",
        "  quar12 = np.zeros([4,4])\n",
        "  for i in range (0,4):\n",
        "    for j in range (0,4):\n",
        "      quar12[i,j] = win16[i+8][j+12]\n",
        "  windows4X4.append(quar12)\n",
        "\n",
        "\n",
        "  quar13 = np.zeros([4,4])\n",
        "  for i in range (0,4):\n",
        "    for j in range (0,4):\n",
        "      quar13[i,j] = win16[i+12][j]\n",
        "  windows4X4.append(quar13)\n",
        "  quar14 = np.zeros([4,4])\n",
        "  for i in range (0,4):\n",
        "    for j in range (0,4):\n",
        "      quar14[i,j] = win16[i+12][j+4]\n",
        "  windows4X4.append(quar14)\n",
        "  quar15 = np.zeros([4,4])\n",
        "  for i in range (0,4):\n",
        "    for j in range (0,4):\n",
        "      quar15[i,j] = win16[i+12][j+8]\n",
        "  windows4X4.append(quar15)\n",
        "  quar16 = np.zeros([4,4])\n",
        "  for i in range (0,4):\n",
        "    for j in range (0,4):\n",
        "      quar16[i,j] = win16[i+12][j+12]\n",
        "  windows4X4.append(quar16)\n",
        "  return gen_histogram (windows4X4)\n",
        "def gen_histogram (windows4X4):\n",
        "  vector = []\n",
        "  for w in range (0 , len(windows4X4)):\n",
        "    win4 = windows4X4[w]\n",
        "    hisogram = [0] * 8\n",
        "    for i in range (0,4):\n",
        "      for j in range (0,4):\n",
        "        if(not math.isnan(win4[i][j])):\n",
        "          index = math.floor(win4[i][j] // 45)\n",
        "          hisogram[index] = hisogram[index]+1 \n",
        "    vector.append(hisogram)\n",
        "  vector = [item for sublist in vector for item in sublist]\n",
        "  return vector\n",
        "\n",
        "def gen_descriptor(gradient , x , y):\n",
        "  win_16 = window16(gradient , x , y)\n",
        "  keyPoint_vector = window4(win_16)\n",
        "  return keyPoint_vector\n",
        "\n",
        "def vectors_sim (v1 , v2):\n",
        "  diff=0\n",
        "  for i in range (0 , len(v1)):\n",
        "    diff = diff + math.sqrt((v1[i]-v2[i])**2)\n",
        "  return diff\n",
        "\n",
        "def matching (dict1 , dict2):\n",
        "  shift = []\n",
        "  for i in range (0 , len(dict1)):\n",
        "    vec_i = dict1[i][1]\n",
        "    min = vectors_sim(dict1[i][1] , dict2[0][1])\n",
        "    minPoint = dict2[0][0]\n",
        "    for j in range (0, len(dict2)):\n",
        "      vec_j = dict2[j][1]\n",
        "      diff = vectors_sim(vec_i , vec_j)\n",
        "      if(diff < min):\n",
        "        min = diff\n",
        "        minPoint = dict2[j][0]\n",
        "        if(min == 0):\n",
        "          return [a_i - b_i for a_i, b_i in zip(dict[i][0] - dict[j][0])]\n",
        "    shift.append([a_i - b_i for a_i, b_i in zip(dict1[i][0], minPoint)])\n",
        "  return shift\n",
        "\n",
        "\n",
        "\n",
        "def stitch (image1 , image2):\n",
        "  original1 = image1.copy()\n",
        "  original2 = image2.copy()\n",
        "  keypoints1 , sigma_best1 , image1 =  SIFT(image1 , 20 , 0.0)\n",
        "  keypoints2 , sigma_best2 , image2 =  SIFT(image2 , 20 , 0.0)\n",
        "  descriptorDict1 = []\n",
        "  descriptorDict2 = []\n",
        "  for i in range(0,len(sigma_best1)):\n",
        "    sBest = sigma_best1[i][0]\n",
        "    x , y = sigma_best1[i][1]\n",
        "    gradient = conv_sBest(original1 , sBest)\n",
        "    if( 8 < x < 166 and 8 < y < 392 ):\n",
        "      descriptorDict1.append([[x,y] , gen_descriptor(gradient , x , y)])\n",
        "  for i in range(0,len(sigma_best2)):\n",
        "    sBest = sigma_best2[i][0]\n",
        "    x , y = sigma_best2[i][1]\n",
        "    gradient = conv_sBest(original2 , sBest)\n",
        "    if( 8 < x < 166 and 8 < y < 392 ):\n",
        "      descriptorDict2.append([[x,y] , gen_descriptor(gradient , x , y)])\n",
        "\n",
        "  shifts = matching(descriptorDict1 , descriptorDict2)\n",
        "  return shifts"
      ],
      "execution_count": 1,
      "outputs": []
    },
    {
      "cell_type": "markdown",
      "metadata": {
        "id": "PfYDMdrTPN9I"
      },
      "source": [
        "**pass the 2 images to stitch algorithem and return the shift between each keypoint and its corresponding keypoint in the another image.**"
      ]
    },
    {
      "cell_type": "code",
      "metadata": {
        "colab": {
          "base_uri": "https://localhost:8080/"
        },
        "id": "Yi64SmnSpHfW",
        "outputId": "9f663b22-80e7-4468-ec17-88c6aba6cef0"
      },
      "source": [
        "image1 = cv2.imread(\"/content/drive/MyDrive/image/Louvre1.jpg\")\n",
        "image2 = cv2.imread(\"/content/drive/MyDrive/image/Louvre2.jpg\")\n",
        "shifts = stitch(image1 , image2)"
      ],
      "execution_count": 7,
      "outputs": [
        {
          "output_type": "stream",
          "text": [
            "/usr/local/lib/python3.7/dist-packages/ipykernel_launcher.py:20: RuntimeWarning: invalid value encountered in ubyte_scalars\n",
            "/usr/local/lib/python3.7/dist-packages/ipykernel_launcher.py:20: RuntimeWarning: divide by zero encountered in ubyte_scalars\n"
          ],
          "name": "stderr"
        }
      ]
    },
    {
      "cell_type": "markdown",
      "metadata": {
        "id": "nQa6g3iXP3Xb"
      },
      "source": [
        "**stitch the 2 images based on the average of the shift between each pair of keypoints**"
      ]
    },
    {
      "cell_type": "code",
      "metadata": {
        "colab": {
          "base_uri": "https://localhost:8080/",
          "height": 147
        },
        "id": "Fy-YVUWe6hdD",
        "outputId": "76d2d5f1-4d18-4f91-9d3b-ec0e189df055"
      },
      "source": [
        "from PIL import Image\n",
        "\n",
        "#shift = [[23, 204], [23, 204], [-18, -25], [23, 202], [23, 204], [38, -306], [23, 204], [34, -352], [22, 204], [23, 204], [13, -224], [24, 204], [61, -327], [-8, -68], [0, 332], [-1, -75], [-3, 331], [3, -292], [-9, 26], [9, -153], [11, -180], [-26, 138], [23, 204], [-3, 95], [10, -202], [-2, 97], [-3, 38], [2, 77], [32, -233], [-9, -247], [9, 82], [29, -166], [75, -316], [23, 204], [62, -164], [25, -282], [22, 204], [28, -263], [54, 37], [55, -112], [35, -158], [23, 204], [13, -67], [36, -235], [14, -149], [35, -137], [-10, 32], [22, -110], [8, 0], [71, -260], [15, 89], [23, 204], [23, 204], [72, -249], [24, -110], [19, -109], [64, -35], [69, 62], [25, 205], [21, -100], [22, -92], [23, 204], [23, 204], [23, 204], [80, -33], [0, 6], [24, 203], [23, 204], [23, 204], [-11, 287], [23, 204], [15, -229], [9, -135], [35, -161], [55, -46], [23, 204], [23, 204], [22, 205], [8, -177], [27, -141], [10, -243], [23, 204], [23, 204], [6, 190], [39, -334], [39, -251], [26, -5], [23, 204], [39, -345], [23, 205], [63, -345], [39, 25], [96, -335], [66, -224], [96, -249], [28, 17], [20, -120], [23, 204], [102, -192], [27, -261], [23, 204], [28, -122], [23, 204], [23, 204], [58, -263], [84, -115], [64, -222], [18, 53], [23, 203], [55, 29], [23, 204], [59, -296], [103, -245], [19, 124], [86, -204], [30, -69], [31, -130], [26, 13], [21, 177], [23, 204], [34, -261], [23, 204], [23, 204], [23, 204], [23, 204], [23, 204], [85, -204], [34, -204], [23, 204], [91, 25], [35, -39], [23, -142], [23, 131], [23, 204], [23, 204], [23, 204], [107, -269], [25, 14], [23, 157], [23, 203], [90, -25], [23, 203], [23, 204], [23, 204], [23, 204], [27, -72], [26, 14], [26, 30], [23, 204], [23, 204], [83, -190], [29, -31], [78, -173], [31, -26], [23, 204], [23, 204], [91, -322], [44, -56], [23, 204]]\n",
        "x_values = [i[0] for i in shifts]\n",
        "y_values = [i[1] for i in shifts]\n",
        "abs_x = list(map(abs, x_values))\n",
        "abs_y = list(map(abs, y_values))\n",
        "shift_x = max(set(abs_x), key=abs_x.count) #sum(map(abs, x_values)) / len(x_values)\n",
        "shift_y = max(set(abs_y), key=abs_y.count) #sum(map(abs, y_values)) / len(y_values\n",
        "\n",
        "def merge_images(file1, file2, shift_x , shift_y):\n",
        "    image1 = Image.open(file1)\n",
        "    image2 = Image.open(file2)\n",
        "\n",
        "    (width1, height1) = image1.size\n",
        "    (width2, height2) = image2.size\n",
        "\n",
        "    result_width = (width1 + width2) - shift_y\n",
        "    result_height = max(height1, height2)\n",
        "\n",
        "    result = Image.new('RGB', (result_width, result_height))\n",
        "    result.paste(im=image1, box=(0, 0))\n",
        "    result.paste(im=image2, box=(shift_y , shift_x))\n",
        "    return result\n",
        "\n",
        "stitched_image = merge_images(\"/content/drive/MyDrive/image/Louvre1.jpg\" , \"/content/drive/MyDrive/image/Louvre2.jpg\" , shift_x , shift_y)\n",
        "imgplot = plt.imshow(stitched_image)\n",
        "stitched_image.save('Louvre_All.jpg')\n",
        "plt.show()\n"
      ],
      "execution_count": 29,
      "outputs": [
        {
          "output_type": "display_data",
          "data": {
            "image/png": "[encoded data removed]",
            "text/plain": [
              "<Figure size 432x288 with 1 Axes>"
            ]
          },
          "metadata": {
            "tags": [],
            "needs_background": "light"
          }
        }
      ]
    }
  ]
}